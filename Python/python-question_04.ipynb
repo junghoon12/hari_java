{
 "cells": [
  {
   "cell_type": "markdown",
   "metadata": {},
   "source": [
    "#### 문제4"
   ]
  },
  {
   "cell_type": "markdown",
   "metadata": {},
   "source": [
    "##### Exercise 29. 조건문\n",
    "* 사용자로부터 두 개의 숫자를 입력 받은 후 큰 숫자를 화면에 출력하세요."
   ]
  },
  {
   "cell_type": "code",
   "execution_count": null,
   "metadata": {},
   "outputs": [],
   "source": []
  },
  {
   "cell_type": "markdown",
   "metadata": {},
   "source": [
    "##### Exercise 30. 조건문\n",
    "* 사용자로부터 입력 받은 숫자가 홀수인지 짝수인지 출력하세요."
   ]
  },
  {
   "cell_type": "code",
   "execution_count": null,
   "metadata": {},
   "outputs": [],
   "source": []
  },
  {
   "cell_type": "markdown",
   "metadata": {},
   "source": [
    "##### Exercise 31. 반복문\n",
    "* 1 ~ 10까지의 숫자에 대해 모두 더한 값을 출력하는 프로그램을 for 문을 사용하여 작성하세요."
   ]
  },
  {
   "cell_type": "code",
   "execution_count": null,
   "metadata": {},
   "outputs": [],
   "source": []
  },
  {
   "cell_type": "markdown",
   "metadata": {},
   "source": [
    "##### Exercise 32.  조건문\n",
    "* 사용자로부터 세 개의 숫자를 입력 받은 후 가장 작은 숫자를 출력하세요."
   ]
  },
  {
   "cell_type": "code",
   "execution_count": null,
   "metadata": {},
   "outputs": [],
   "source": []
  },
  {
   "cell_type": "markdown",
   "metadata": {},
   "source": [
    "##### Exercise 33. 반복문\n",
    "* 사용자로부터 2 ~ 9 사이의 숫자를 입력 받은 후, 해당 숫자에 대한 구구단을 출력하세요."
   ]
  },
  {
   "cell_type": "code",
   "execution_count": null,
   "metadata": {},
   "outputs": [],
   "source": []
  },
  {
   "cell_type": "markdown",
   "metadata": {},
   "source": [
    "##### Exercise 34.  반복문과 문자열 다루기 (split)\n",
    "* 사용자로부터 , 로 구분된 여러 이름을 입력받아서, 한 줄에 하나씩 이름을 출력하세요<br>\n",
    "  - 사용자 입력: Dave,David,Andy,Arthor\n",
    "  - 출력 예:  <br>\n",
    "    Dave <br>\n",
    "    David <br>\n",
    "    Andy <br>\n",
    "    Arthor <br>    "
   ]
  },
  {
   "cell_type": "code",
   "execution_count": null,
   "metadata": {},
   "outputs": [],
   "source": []
  },
  {
   "cell_type": "markdown",
   "metadata": {},
   "source": [
    "##### Exercise 35. 조건문\n",
    "* 사용자로부터 점수를 입력 받은 후 등급을 출력하라.\n",
    "  - (A: 100 ~ 81, B: 80 ~ 61, C: 60 ~ 0)"
   ]
  },
  {
   "cell_type": "code",
   "execution_count": null,
   "metadata": {},
   "outputs": [],
   "source": []
  },
  {
   "cell_type": "markdown",
   "metadata": {},
   "source": [
    "##### Exercise 36.  반복문과 문자열 다루기 (split)\n",
    "* 사용자로부터 [이름1],[이름2],[이름3] 과 같은 형식으로 데이터를 입력받아서, 한 줄에 하나씩 이름을 출력하세요<br>\n",
    "  - 사용자 입력: [Dave],[David],[Andy],[Arthor]\n",
    "  - 출력 예:  <br>\n",
    "    Dave <br>\n",
    "    David <br>\n",
    "    Andy <br>\n",
    "    Arthor <br>   "
   ]
  },
  {
   "cell_type": "code",
   "execution_count": null,
   "metadata": {},
   "outputs": [],
   "source": []
  },
  {
   "cell_type": "markdown",
   "metadata": {},
   "source": [
    "##### Exercise 37. 반복문과 조건문\n",
    "* 1부터 30까지의 숫자 중 3의 배수만 출력하세요."
   ]
  },
  {
   "cell_type": "code",
   "execution_count": null,
   "metadata": {},
   "outputs": [],
   "source": []
  },
  {
   "cell_type": "markdown",
   "metadata": {},
   "source": [
    "##### Exercise 38. 데이터 구조 (리스트)\n",
    "* 사용자로부터 주민등록번호를 입력받아, 성별을 '남성' 또는 '여성'으로 출력하세요.\n",
    "  - 주민등록번호 뒷자리 맨 앞자리는 성별을 나타냄\n",
    "  - 예) 800001-1231231 주민번호를 입력받으면 1을 출력하면 됨\n",
    "  - 1이면 남성, 2이면 여성을 출력하면 됨 (최근 아이들은 3과 4를 사용하지만 이 경우는 고려하지 않기로 함) "
   ]
  },
  {
   "cell_type": "code",
   "execution_count": null,
   "metadata": {},
   "outputs": [],
   "source": []
  },
  {
   "cell_type": "markdown",
   "metadata": {},
   "source": [
    "##### Exercise 39. 반복문 (while)\n",
    "* 1부터 100까지 숫자를 모두 더한 값을 출력하세요.\n",
    "  - 단 while 구문을 사용해서 작성하세요."
   ]
  },
  {
   "cell_type": "code",
   "execution_count": null,
   "metadata": {},
   "outputs": [],
   "source": []
  },
  {
   "cell_type": "markdown",
   "metadata": {},
   "source": [
    "##### Exercise 40. 반복문 (while)\n",
    "* 사용자로부터 4자리의 숫자로 구성된 데이터를 입력받아서 \n",
    "  + 비밀번호와 같으면 '비밀번호가 맞습니다.'를 출력하고 종료하세요. \n",
    "  + 비밀번호와 다르면 '비밀번호가 틀렸습니다.'를 출력하고 다시 사용자로부터 데이터를 입력받으세요.\n",
    "    - 비밀번호는 4312 입니다."
   ]
  },
  {
   "cell_type": "code",
   "execution_count": null,
   "metadata": {},
   "outputs": [],
   "source": []
  },
  {
   "cell_type": "markdown",
   "metadata": {},
   "source": [
    "##### Exercise 41. 데이터 구조와 반복문 (리스트)\n",
    "* 다음 리스트 변수에서 음수 데이터를 삭제하고, 양수만 가진 리스트 변수로 만들고, 해당 변수를 출력하세요.\n",
    "\n",
    "```python\n",
    "num_list = [0, -11, 31, 22, -11, 33, -44, -55]\n",
    "```"
   ]
  },
  {
   "cell_type": "code",
   "execution_count": null,
   "metadata": {},
   "outputs": [],
   "source": []
  },
  {
   "cell_type": "markdown",
   "metadata": {},
   "source": [
    "##### Exercise 42. 문자열 다루기 (문자열 인덱싱)\n",
    "* letters 라는 변수에 사용자로부터 문자열을 입력받아서 문자 n 이 들어있는지를 출력하라 ( n 이 들어 있으면 0, 안들어있으면 -1을 출력하라)"
   ]
  },
  {
   "cell_type": "code",
   "execution_count": null,
   "metadata": {},
   "outputs": [],
   "source": []
  },
  {
   "cell_type": "markdown",
   "metadata": {},
   "source": [
    "##### Exercise 43.  데이터 구조와 반복문 (리스트)\n",
    "* 다음 리스트에 있는 데이터의 길이를 한 라인에 하나씩 출력하세요.\n",
    "\n",
    "```python\n",
    "list_data = [\"fun-coding\", \"Dave\", \"Linux\", \"Python\", \"javascript\", \"front-end\", \"back-end\", \"dataengineering\"]\n",
    "```"
   ]
  },
  {
   "cell_type": "code",
   "execution_count": null,
   "metadata": {},
   "outputs": [],
   "source": []
  },
  {
   "cell_type": "markdown",
   "metadata": {},
   "source": [
    "##### Exercise 44. 데이터 구조와 반복문 (리스트)\n",
    "* 다음 리스트에 있는 숫자를 역 방향으로 출력하세요.\n",
    "  - 단, 리스트에 있는 숫자들은 한 라인에 하나씩 출력하세요.\n",
    "```python\n",
    "data = [1, 2, 3, 4, 5, 6, 7, 8, 9, 10]\n",
    "```\n",
    "* 실행 예:<br>\n",
    "10 <br>\n",
    "9 <br>\n",
    "8 <br>\n",
    "7 <br>\n",
    "6 <br>\n",
    "5 <br>\n",
    "4 <br>\n",
    "3 <br>\n",
    "2 <br>\n",
    "1"
   ]
  },
  {
   "cell_type": "code",
   "execution_count": null,
   "metadata": {},
   "outputs": [],
   "source": []
  },
  {
   "cell_type": "markdown",
   "metadata": {},
   "source": [
    "##### Exercise 45. 문자열 다루기 (문자열 인덱싱)\n",
    "* letters 라는 변수에 사용자로부터 문자열을 입력받아서 문자 n 이 들어있는지를 출력하라 \n",
    "  - n 이 들어 있으면 'n 이 들어있습니다.', 안들어있으면 'n 이 안들어있습니다.' 를 출력하라"
   ]
  },
  {
   "cell_type": "code",
   "execution_count": null,
   "metadata": {},
   "outputs": [],
   "source": []
  },
  {
   "cell_type": "markdown",
   "metadata": {},
   "source": [
    "##### Exercise 46. 데이터 구조 (리스트), 반복문, 문자열 다루기\n",
    "* 다음과 같이 파일 이름(확장자 포함) 저장하고 있는 리스트가 있을 때 확장자를 제거하고 파일 이름만 출력하세요.\n",
    "\n",
    "```python\n",
    "filelist = ['exercise01.docx', 'exercise02.docx', 'exercise03.docx', 'exercise04.docx', 'exercise05.docx']\n",
    "```"
   ]
  },
  {
   "cell_type": "code",
   "execution_count": null,
   "metadata": {},
   "outputs": [],
   "source": []
  },
  {
   "cell_type": "markdown",
   "metadata": {},
   "source": [
    "##### Exercise 47. 문자열 다루기 (문자열 인덱싱)와 조건문\n",
    "* 주민등록번호의 뒷 자리 7자리 중 두번째부터 세번째는 출생 지역 코드입니다.\n",
    "* 다음 표를 참조하여 사용자로부터 주민 등록 번호를 입력 받은 후 출생지를 출력하세요.\n",
    "<table>\n",
    "<thead>\n",
    "<tr>\n",
    "<th>지역 코드</th>\n",
    "<th>출생 지역</th>\n",
    "</tr>\n",
    "</thead>\n",
    "<tbody>\n",
    "<tr>\n",
    "<td>00 ~ 08</td>\n",
    "<td>서울</td>\n",
    "</tr>\n",
    "<tr>\n",
    "<td>09 ~ 12</td>\n",
    "<td>부산</td>\n",
    "</tr>\n",
    "</tbody>\n",
    "</table>"
   ]
  },
  {
   "cell_type": "code",
   "execution_count": null,
   "metadata": {},
   "outputs": [],
   "source": []
  },
  {
   "cell_type": "markdown",
   "metadata": {},
   "source": [
    "##### Exercise 48. 데이터 구조 (리스트), 반복문, 조건문, 문자열 다루기\n",
    "* 파일 이름이 다음과 같은 리스트에 저장되어 있을 때 확장자가 .txt 인 파일에 대한 리스트를 출력하라\n",
    "\n",
    "```python\n",
    "filelist = ['exercise01.docx', 'exercise02.csv', 'exercise03.txt', 'exercise04.hwp']\n",
    "```"
   ]
  },
  {
   "cell_type": "code",
   "execution_count": null,
   "metadata": {},
   "outputs": [],
   "source": []
  },
  {
   "cell_type": "markdown",
   "metadata": {},
   "source": [
    "##### Exercise 49. 문자열 다루기와 조건문\n",
    "* prices 변수에 100 ~ 999 달러 까지 입력될 때, 해당 값을 원 화로 바꿔서 계산하세요.\n",
    "\n",
    "```python\n",
    "prices = '100 달러'\n",
    "```\n",
    "\n",
    "* 환율은 다음과 같음\n",
    "<table>\n",
    "<thead>\n",
    "<tr>\n",
    "<th>통화단위</th>\n",
    "<th>원화 환율</th>\n",
    "</tr>\n",
    "</thead>\n",
    "<tbody>\n",
    "<tr>\n",
    "<td>달러</td>\n",
    "<td>1112</td>\n",
    "</tr>\n",
    "</tbody>\n",
    "</table>\n",
    "\n",
    "출력: <br>\n",
    "111200 원"
   ]
  },
  {
   "cell_type": "code",
   "execution_count": null,
   "metadata": {},
   "outputs": [],
   "source": []
  },
  {
   "cell_type": "markdown",
   "metadata": {},
   "source": [
    "##### Exercise 50. 문자열 다루기와 조건문\n",
    "* 사용자로부터 달러 또는 위안 금액을 입력받은 후 이를 원으로 바꿔서 계산하세요.\n",
    "  - 사용자는 100 ~ 999 달러, 100 ~ 999 위안 까지 입력 가능하고, 각 금액과 통화명 사이에 공백을 넣어 입력하기로 합니다.\n",
    "  - 각 통화별 환율은 다음과 같습니다.   \n",
    "<table>\n",
    "<thead>\n",
    "<tr>\n",
    "<th>통화단위</th>\n",
    "<th>원화 환율</th>\n",
    "</tr>\n",
    "</thead>\n",
    "<tbody>\n",
    "<tr>\n",
    "<td>달러</td>\n",
    "<td>1112</td>\n",
    "</tr>\n",
    "<tr>\n",
    "<td>위안</td>\n",
    "<td>171</td>\n",
    "</tr>\n",
    "</tbody>\n",
    "</table>\n",
    "\n",
    "\n",
    "출력: <br>\n",
    "111200 원"
   ]
  },
  {
   "cell_type": "code",
   "execution_count": null,
   "metadata": {},
   "outputs": [],
   "source": []
  },
  {
   "cell_type": "markdown",
   "metadata": {},
   "source": [
    "##### Exercise 51. 문자열 다루기, 조건문, 데이터 구조 (dictionary)\n",
    "* 다음 통화별 환율을 통화단위와 원화 환율을 가진 딕셔너리로 만들고 사용자로부터 달러, 엔, 또는 위안 금액을 입력받은 후 이를 원으로 바꿔서 계산하세요.\n",
    "  - 사용자는 100 ~ 999 달러, 위안, 또는 엔 과 같이 금액과 통화명 사이에 공백을 넣어 입력하기로 합니다.\n",
    "<table>\n",
    "<thead>\n",
    "<tr>\n",
    "<th>통화단위</th>\n",
    "<th>원화 환율</th>\n",
    "</tr>\n",
    "</thead>\n",
    "<tbody>\n",
    "<tr>\n",
    "<td>달러</td>\n",
    "<td>1112</td>\n",
    "</tr>\n",
    "<tr>\n",
    "<td>위안</td>\n",
    "<td>171</td>\n",
    "</tr>\n",
    "<tr>\n",
    "<td>엔</td>\n",
    "<td>1010</td>\n",
    "</tr>\n",
    "</tbody>\n",
    "</table>\n"
   ]
  },
  {
   "cell_type": "code",
   "execution_count": null,
   "metadata": {},
   "outputs": [],
   "source": []
  },
  {
   "cell_type": "markdown",
   "metadata": {},
   "source": [
    "##### Exercise 52. 이중 반복문\n",
    "* 구구단을 2단부터 9단까지 다음과 같이 출력하세요\n",
    "  - 출력 예\n",
    "<pre>\n",
    "2 X 1 = 2\n",
    "2 X 2 = 4\n",
    "2 X 3 = 6\n",
    "2 X 4 = 8\n",
    "2 X 5 = 10\n",
    "2 X 6 = 12\n",
    "2 X 7 = 14\n",
    "2 X 8 = 16\n",
    "2 X 9 = 18\n",
    "3 X 1 = 3\n",
    "3 X 2 = 6\n",
    ".\n",
    ".\n",
    ".\n",
    "9 X 7 = 63\n",
    "9 X 8 = 72\n",
    "9 X 9 = 81\n",
    "</pre>"
   ]
  },
  {
   "cell_type": "code",
   "execution_count": null,
   "metadata": {},
   "outputs": [],
   "source": []
  },
  {
   "cell_type": "markdown",
   "metadata": {},
   "source": [
    "##### Exercise 53. 이중 반복문과 조건문\n",
    "* 구구단을 2단부터 9단까지 출력하되, 계산 값이 짝수인 경우에만 출력하세요\n",
    "  - 예: 3 X 3 = 9 에서 9는 홀수이므로 출력하지 않는다.\n",
    "  - 예: 2 X 4 = 8 에서 8은 짝수이므로 출력한다.\n",
    "  - 최종 출력 예\n",
    "<pre>\n",
    "2 X 2 = 4\n",
    "2 X 3 = 6\n",
    "2 X 4 = 8\n",
    "2 X 5 = 10\n",
    "2 X 6 = 12\n",
    "2 X 7 = 14\n",
    "2 X 8 = 16\n",
    "2 X 9 = 18\n",
    "3 X 2 = 6\n",
    "3 X 4 = 12\n",
    "3 X 6 = 18\n",
    "3 X 8 = 24\n",
    "4 X 2 = 8\n",
    "4 X 3 = 12\n",
    "4 X 4 = 16\n",
    "4 X 5 = 20\n",
    "4 X 6 = 24\n",
    "4 X 7 = 28\n",
    "4 X 8 = 32\n",
    "4 X 9 = 36\n",
    "5 X 2 = 10\n",
    "5 X 4 = 20\n",
    "5 X 6 = 30\n",
    "5 X 8 = 40\n",
    "6 X 2 = 12\n",
    "6 X 3 = 18\n",
    "6 X 4 = 24\n",
    "6 X 5 = 30\n",
    "6 X 6 = 36\n",
    "6 X 7 = 42\n",
    "6 X 8 = 48\n",
    "6 X 9 = 54\n",
    "7 X 2 = 14\n",
    "7 X 4 = 28\n",
    "7 X 6 = 42\n",
    "7 X 8 = 56\n",
    "8 X 2 = 16\n",
    "8 X 3 = 24\n",
    "8 X 4 = 32\n",
    "8 X 5 = 40\n",
    "8 X 6 = 48\n",
    "8 X 7 = 56\n",
    "8 X 8 = 64\n",
    "8 X 9 = 72\n",
    "9 X 2 = 18\n",
    "9 X 4 = 36\n",
    "9 X 6 = 54\n",
    "9 X 8 = 72\n",
    "</pre>"
   ]
  },
  {
   "cell_type": "code",
   "execution_count": null,
   "metadata": {},
   "outputs": [],
   "source": []
  },
  {
   "cell_type": "markdown",
   "metadata": {},
   "source": [
    "##### Exercise 54. 이중 반복문과 데이터 구조 (리스트)\n",
    "* 아파트 동호수를 다음과 같은 두 리스트 변수를 활용해서 출력하세요.\n",
    "  - 단, 각 동과 동 사이에는 구분이 되도록 한 라인씩 띄워서 출력하세요\n",
    "\n",
    "<pre>\n",
    "dongs = [\"6209동\", \"6208동\", \"6207동\"]\n",
    "hos = [\"101호\", \"102호\", \"103호\", \"104호\"]\n",
    "</pre>\n",
    "\n",
    "  - 출력 예:\n",
    "<pre>\n",
    "6209동 101호\n",
    "6209동 102호\n",
    "6209동 103호\n",
    "6209동 104호\n",
    "</pre>\n",
    "<pre>\n",
    "6208동 101호\n",
    "6208동 102호\n",
    "6208동 103호\n",
    "6208동 104호\n",
    "</pre>\n",
    "<pre>\n",
    "6207동 101호\n",
    "6207동 102호\n",
    "6207동 103호\n",
    "6207동 104호\n",
    "</pre>"
   ]
  },
  {
   "cell_type": "code",
   "execution_count": null,
   "metadata": {},
   "outputs": [],
   "source": []
  }
 ],
 "metadata": {
  "kernelspec": {
   "display_name": "Python 3 (ipykernel)",
   "language": "python",
   "name": "python3"
  },
  "language_info": {
   "codemirror_mode": {
    "name": "ipython",
    "version": 3
   },
   "file_extension": ".py",
   "mimetype": "text/x-python",
   "name": "python",
   "nbconvert_exporter": "python",
   "pygments_lexer": "ipython3",
   "version": "3.12.7"
  },
  "nbTranslate": {
   "displayLangs": [
    "*"
   ],
   "hotkey": "alt-t",
   "langInMainMenu": true,
   "sourceLang": "en",
   "targetLang": "fr",
   "useGoogleTranslate": true
  }
 },
 "nbformat": 4,
 "nbformat_minor": 4
}
