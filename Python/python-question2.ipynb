{
 "cells": [
  {
   "cell_type": "markdown",
   "metadata": {},
   "source": [
    "#### 2. 문제를 풀며 빠르게 익숙해지는 파이썬 기본 프로그래밍2"
   ]
  },
  {
   "cell_type": "markdown",
   "metadata": {},
   "source": [
    "##### Exercise 12.  조건문\n",
    "* 사용자로부터 세 개의 숫자를 입력 받은 후 가장 작은 숫자를 출력하세요."
   ]
  },
  {
   "cell_type": "code",
   "execution_count": null,
   "metadata": {},
   "outputs": [],
   "source": []
  },
  {
   "cell_type": "markdown",
   "metadata": {},
   "source": [
    "##### Exercise 13. 조건문\n",
    "* 사용자로부터 점수를 입력 받은 후 등급을 출력하라.\n",
    "  - (A: 100 ~ 81, B: 80 ~ 61, C: 60 ~ 0)"
   ]
  },
  {
   "cell_type": "code",
   "execution_count": null,
   "metadata": {},
   "outputs": [],
   "source": []
  },
  {
   "cell_type": "markdown",
   "metadata": {},
   "source": [
    "##### Exercise 14. 기본 자료형\n",
    "* 10, 2.2, \"홍길동\" 각각을 변수에 넣고, 각 데이터 타입을 출력하세요."
   ]
  },
  {
   "cell_type": "code",
   "execution_count": null,
   "metadata": {},
   "outputs": [],
   "source": []
  },
  {
   "cell_type": "markdown",
   "metadata": {},
   "source": [
    "##### Exercise 15. 기본 자료형\n",
    "* 다음 코드를 실행해보고 \\t와 \\n의 역할을 설명하세요.\n",
    "```python\n",
    "code = '000660\\n00000102\\t12312312'\n",
    "print (code)\n",
    "```"
   ]
  },
  {
   "cell_type": "code",
   "execution_count": null,
   "metadata": {},
   "outputs": [],
   "source": []
  },
  {
   "cell_type": "markdown",
   "metadata": {},
   "source": [
    "##### Exercise 16. 조건문\n",
    "* 사용자로부터 두 개의 숫자를 입력 받은 후 큰 숫자를 화면에 출력하세요."
   ]
  },
  {
   "cell_type": "code",
   "execution_count": null,
   "metadata": {},
   "outputs": [],
   "source": []
  },
  {
   "cell_type": "markdown",
   "metadata": {},
   "source": [
    "##### Exercise 17. 조건문\n",
    "* 사용자로부터 입력 받은 숫자가 홀수인지 짝수인지 출력하세요."
   ]
  },
  {
   "cell_type": "code",
   "execution_count": null,
   "metadata": {},
   "outputs": [],
   "source": []
  },
  {
   "cell_type": "markdown",
   "metadata": {},
   "source": [
    "##### Exercise 18. 문자열과 인덱스\n",
    "* 사용자로부터 주민등록번호를 입력받아 출생 연도를 출력하세요.\n",
    "  - 예) 800001-1231231 주민번호를 입력받으면 80을 출력하면 됨"
   ]
  },
  {
   "cell_type": "code",
   "execution_count": null,
   "metadata": {},
   "outputs": [],
   "source": []
  },
  {
   "cell_type": "markdown",
   "metadata": {},
   "source": [
    "##### Exercise 19. 데이터 구조 (리스트)\n",
    "* 사용자로부터 주민등록번호를 입력받아 뒷자리 맨 앞의 숫자를 출력하세요.\n",
    "  - 주민등록번호 뒷자리 맨 앞자리는 성별을 나타냄\n",
    "  - 예) 800001-1231231 주민번호를 입력받으면 1을 출력하면 됨\n",
    "  - 1은 남성을 의미, 2는 여성을 의미, 최근 아이들은 3과 4를 사용함 "
   ]
  },
  {
   "cell_type": "code",
   "execution_count": null,
   "metadata": {},
   "outputs": [],
   "source": []
  },
  {
   "cell_type": "markdown",
   "metadata": {},
   "source": [
    "##### Exercise 20. 데이터 구조 (리스트)\n",
    "* 사용자로부터 주민등록번호를 입력받아, 성별을 '남성' 또는 '여성'으로 출력하세요.\n",
    "  - 주민등록번호 뒷자리 맨 앞자리는 성별을 나타냄\n",
    "  - 예) 800001-1231231 주민번호를 입력받으면 1을 출력하면 됨\n",
    "  - 1이면 남성, 2이면 여성을 출력하면 됨 (최근 아이들은 3과 4를 사용하지만 이 경우는 고려하지 않기로 함) "
   ]
  },
  {
   "cell_type": "code",
   "execution_count": null,
   "metadata": {},
   "outputs": [],
   "source": []
  },
  {
   "cell_type": "markdown",
   "metadata": {},
   "source": [
    "##### Exercise 21. 문자열 다루기 (strip)\n",
    "* 다음 문자열에서 ...를 제거하라.\n",
    "```python\n",
    "mystr = \"a man goes into the room...\"\n",
    "```\n",
    "출력 예: 'a man goes into the room'"
   ]
  },
  {
   "cell_type": "code",
   "execution_count": null,
   "metadata": {},
   "outputs": [],
   "source": []
  },
  {
   "cell_type": "markdown",
   "metadata": {},
   "source": [
    "##### Exercise 22. 문자열 다루기 (strip)\n",
    "* 주식 종목을 나타내는 종목코드에 공백과 줄바꿈 기호가 포함되어 있다. 공백과 줄바꿈 기호를 제거하고 종목코드만을 추출하라.\n",
    "```python\n",
    "code = '         000660\\n            '\n",
    "```\n",
    "출력: '000660'"
   ]
  },
  {
   "cell_type": "code",
   "execution_count": null,
   "metadata": {},
   "outputs": [],
   "source": []
  },
  {
   "cell_type": "markdown",
   "metadata": {},
   "source": [
    "##### Exercise 23. 문자열 다루기 (count)\n",
    "* 다음 문자열에서 'Python' 문자열의 빈도수를 출력하라.\n",
    "```python\n",
    "python_desc = \"Python is an interpreted high-level programming language for general-purpose programming. Created by Guido van Rossum and first released in 1991, Python has a design philosophy that emphasizes code readability, notably using significant whitespace.\"\n",
    "```\n",
    "출력 예: 2"
   ]
  },
  {
   "cell_type": "code",
   "execution_count": null,
   "metadata": {},
   "outputs": [],
   "source": []
  },
  {
   "cell_type": "markdown",
   "metadata": {},
   "source": [
    "##### Exercise 24. 문자열 다루기 (count)\n",
    "* 다음 문자열에서 'p' 문자가 몇번 나오는지 빈도수를 출력하라.\n",
    "```python\n",
    "python_desc = \"Python is an interpreted high-level programming language for general-purpose programming. Created by Guido van Rossum and first released in 1991, Python has a design philosophy that emphasizes code readability, notably using significant whitespace.\"\n",
    "```\n",
    "출력 예: 9"
   ]
  },
  {
   "cell_type": "code",
   "execution_count": null,
   "metadata": {},
   "outputs": [],
   "source": []
  },
  {
   "cell_type": "markdown",
   "metadata": {},
   "source": [
    "##### Exercise 25. 문자열 다루기 (문자열 인덱싱)\n",
    "letters 라는 변수에 들어 있는 문자열에서 두 번째와 네 번째 문자를 출력하라\n",
    "```python\n",
    "letters = \"python\"\n",
    "```\n",
    "출력 예: <br>\n",
    "y <br>\n",
    "h"
   ]
  },
  {
   "cell_type": "code",
   "execution_count": null,
   "metadata": {},
   "outputs": [],
   "source": []
  },
  {
   "cell_type": "markdown",
   "metadata": {},
   "source": [
    "##### Exercise 26. 문자열 다루기 (문자열 인덱싱)\n",
    "* letters 라는 변수에 사용자로부터 문자열을 입력받아서 문자 n 이 들어있는지를 출력하라 ( n 이 들어 있으면 0, 안들어있으면 -1을 출력하라)\n"
   ]
  },
  {
   "cell_type": "code",
   "execution_count": null,
   "metadata": {},
   "outputs": [],
   "source": []
  },
  {
   "cell_type": "markdown",
   "metadata": {},
   "source": [
    "##### Exercise 27. 문자열 다루기 (문자열 인덱싱)\n",
    "* letters 라는 변수에 사용자로부터 문자열을 입력받아서 문자 n 이 들어있는지를 출력하라 \n",
    "  - n 이 들어 있으면 'n 이 들어있습니다.', 안들어있으면 'n 이 안들어있습니다.' 를 출력하라"
   ]
  },
  {
   "cell_type": "code",
   "execution_count": null,
   "metadata": {},
   "outputs": [],
   "source": []
  },
  {
   "cell_type": "markdown",
   "metadata": {},
   "source": [
    "##### Exercise 28. 문자열 다루기 (문자열 인덱싱)와 조건문\n",
    "* 주민등록번호의 뒷 자리 7자리 중 두번째부터 세번째는 출생 지역 코드입니다.\n",
    "* 다음 표를 참조하여 사용자로부터 주민 등록 번호를 입력 받은 후 출생지를 출력하세요.\n",
    "<table>\n",
    "<thead>\n",
    "<tr>\n",
    "<th>지역 코드</th>\n",
    "<th>출생 지역</th>\n",
    "</tr>\n",
    "</thead>\n",
    "<tbody>\n",
    "<tr>\n",
    "<td>00 ~ 08</td>\n",
    "<td>서울</td>\n",
    "</tr>\n",
    "<tr>\n",
    "<td>09 ~ 12</td>\n",
    "<td>부산</td>\n",
    "</tr>\n",
    "</tbody>\n",
    "</table>"
   ]
  },
  {
   "cell_type": "code",
   "execution_count": null,
   "metadata": {},
   "outputs": [],
   "source": []
  },
  {
   "cell_type": "markdown",
   "metadata": {},
   "source": [
    "##### Exercise 29. 문자열 다루기 (split)\n",
    "* letters 라는 변수에 Dave,David,Andy 가 들어있다. 해당 변수값을 , 를 기준으로 분리해서 출력하라<br> \n",
    "  - 출력 예: ['Dave', 'David', 'Andy']"
   ]
  },
  {
   "cell_type": "code",
   "execution_count": null,
   "metadata": {},
   "outputs": [],
   "source": []
  },
  {
   "cell_type": "markdown",
   "metadata": {},
   "source": [
    "##### Exercise 30. 문자열 다루기 (split)\n",
    "* 다음과 같은 파일 이름(확장자 포함)에서 확장자를 제거한 파일 이름만 출력하세요.\n",
    "\n",
    "```python\n",
    "filename = 'exercise01.docx'\n",
    "```"
   ]
  },
  {
   "cell_type": "code",
   "execution_count": null,
   "metadata": {},
   "outputs": [],
   "source": []
  }
 ],
 "metadata": {
  "kernelspec": {
   "display_name": "Python 3 (ipykernel)",
   "language": "python",
   "name": "python3"
  },
  "language_info": {
   "codemirror_mode": {
    "name": "ipython",
    "version": 3
   },
   "file_extension": ".py",
   "mimetype": "text/x-python",
   "name": "python",
   "nbconvert_exporter": "python",
   "pygments_lexer": "ipython3",
   "version": "3.11.7"
  },
  "nbTranslate": {
   "displayLangs": [
    "*"
   ],
   "hotkey": "alt-t",
   "langInMainMenu": true,
   "sourceLang": "en",
   "targetLang": "fr",
   "useGoogleTranslate": true
  }
 },
 "nbformat": 4,
 "nbformat_minor": 4
}
