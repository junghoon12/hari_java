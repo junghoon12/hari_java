{
 "cells": [
  {
   "cell_type": "markdown",
   "metadata": {},
   "source": [
    "### 문제3"
   ]
  },
  {
   "cell_type": "markdown",
   "metadata": {},
   "source": [
    "##### Exercise 18. 데이터 구조 (튜플, 리스트, 딕셔너리)\n",
    "* 비어 있는 튜플, 리스트, 딕셔너리 변수를 하나씩 각각 만들고, 해당 자료형을 확인해 보세요."
   ]
  },
  {
   "cell_type": "code",
   "execution_count": null,
   "metadata": {},
   "outputs": [],
   "source": []
  },
  {
   "cell_type": "markdown",
   "metadata": {},
   "source": [
    "##### Exercise 19. 데이터 구조 (딕셔너리)\n",
    "* 다음 영어 사전 데이터를 딕셔너리 변수로 만들어서 다음과 같이 출력하세요.\n",
    "  - 단, 반복문을 사용하세요.\n",
    "\n",
    "<pre>\n",
    "environment : 환경\n",
    "company : 회사\n",
    "gonernment : 정부, 정치\n",
    "face : 얼굴\n",
    "</pre>\n",
    "\n",
    "<table>\n",
    "<thead>\n",
    "<tr>\n",
    "<th>영어단어</th>\n",
    "<th>의미</th>\n",
    "</tr>\n",
    "</thead>\n",
    "<tbody>\n",
    "<tr>\n",
    "<td>environment</td>\n",
    "<td>환경</td>\n",
    "</tr>\n",
    "<tr>\n",
    "<td>company</td>\n",
    "<td>회사</td>\n",
    "</tr>\n",
    "<tr>\n",
    "<td>government</td>\n",
    "<td>정부, 정치</td>\n",
    "</tr>\n",
    "<tr>\n",
    "<td>face</td>\n",
    "<td>얼굴</td>\n",
    "</tr>\n",
    "</tbody>\n",
    "</table>\n",
    "\n"
   ]
  },
  {
   "cell_type": "code",
   "execution_count": null,
   "metadata": {},
   "outputs": [],
   "source": []
  },
  {
   "cell_type": "markdown",
   "metadata": {
    "scrolled": true
   },
   "source": [
    "##### Exercise 20. 데이터 구조 (튜플)\n",
    "* 다음 코드에서 두번째 데이터부터 마지막 데이터를 다음과 같이 출력하세요.\n",
    "\n",
    "```python\n",
    "tupledata = ('python 코딩1', 'python 코딩2', 'python 코딩3', 'python 코딩4', 'python 코딩5')\n",
    "```\n",
    "\n",
    "출력:<br>\n",
    "('python 코딩2', 'python 코딩3', 'python 코딩4', 'python 코딩5')"
   ]
  },
  {
   "cell_type": "code",
   "execution_count": null,
   "metadata": {},
   "outputs": [],
   "source": []
  },
  {
   "cell_type": "markdown",
   "metadata": {},
   "source": [
    "##### Exercise 21. 데이터 구조 (튜플과 리스트)\n",
    "* 다음 튜플 데이터를 리스트 데이터로 변환한 후에 'python 코딩4' 데이터를 마지막에 추가하고, 다시 튜플 데이터로 변환하세요.\n",
    "```python\n",
    "tupledata = ('python 코딩1', 'python 코딩2', 'python 코딩3')\n",
    "```"
   ]
  },
  {
   "cell_type": "code",
   "execution_count": null,
   "metadata": {},
   "outputs": [],
   "source": []
  },
  {
   "cell_type": "markdown",
   "metadata": {},
   "source": [
    "##### Exercise 22. 데이터 구조 (튜플)\n",
    "* a, b, c, d, e를 저장하는 튜플을 만들고 첫 번째 튜플값과 마지막 번째 튜플값을 출력하세요."
   ]
  },
  {
   "cell_type": "code",
   "execution_count": null,
   "metadata": {},
   "outputs": [],
   "source": []
  },
  {
   "cell_type": "markdown",
   "metadata": {},
   "source": [
    "##### Exercise 23. 데이터 구조 (튜플)\n",
    "* 다음 코드를 읽고, 최종적으로 var1과 var2의 값이 어떤 값이될지 확인해 보세요.\n",
    "  - 실행코드\n",
    "    ```python\n",
    "    var1, var2 = 1, 2\n",
    "    var1, var2 = var2, var1\n",
    "    ```"
   ]
  },
  {
   "cell_type": "code",
   "execution_count": null,
   "metadata": {},
   "outputs": [],
   "source": []
  },
  {
   "cell_type": "markdown",
   "metadata": {},
   "source": [
    "##### Exercise 24. 데이터 구조 (딕셔너리)\n",
    "* 다음 영어 사전 데이터를 딕셔너리 변수로 만들고, 딕셔너리 변수의 key 값인 영어단어, value 값인 의미 만을 가진 리스트 변수를 각각 만들고, 두 리스트 변수를 출력하세요.\n",
    "\n",
    "<table>\n",
    "<thead>\n",
    "<tr>\n",
    "<th>영어단어</th>\n",
    "<th>의미</th>\n",
    "</tr>\n",
    "</thead>\n",
    "<tbody>\n",
    "<tr>\n",
    "<td>environment</td>\n",
    "<td>환경</td>\n",
    "</tr>\n",
    "<tr>\n",
    "<td>company</td>\n",
    "<td>회사</td>\n",
    "</tr>\n",
    "<tr>\n",
    "<td>government</td>\n",
    "<td>정부, 정치</td>\n",
    "</tr>\n",
    "<tr>\n",
    "<td>face</td>\n",
    "<td>얼굴</td>\n",
    "</tr>\n",
    "</tbody>\n",
    "</table>\n",
    "\n",
    "* 출력 예\n",
    "<pre>\n",
    "{'environment': '환경', 'company': '회사', 'government': '정부, 정치', 'face': '얼굴'}\n",
    "['environment', 'company', 'government', 'face']\n",
    "['환경', '회사', '정부, 정치', '얼굴']\n",
    "</pre>"
   ]
  },
  {
   "cell_type": "code",
   "execution_count": null,
   "metadata": {},
   "outputs": [],
   "source": []
  },
  {
   "cell_type": "markdown",
   "metadata": {},
   "source": [
    "##### Exercise 25. 데이터 구조 (딕셔너리)\n",
    "* 다음 영어 사전 데이터를 딕셔너리 변수로 만들고 외움표시가 X 인 영어단어만 출력하세요\n",
    "  - 단, key는 영어단어, value는 의미와 외움표시 두 데이터를 넣습니다.\n",
    "\n",
    "<pre>\n",
    "environment : 환경\n",
    "company : 회사\n",
    "gonernment : 정부, 정치\n",
    "face : 얼굴\n",
    "</pre>\n",
    "\n",
    "<table>\n",
    "<thead>\n",
    "<tr>\n",
    "<th>영어단어</th>\n",
    "<th>의미</th>\n",
    "<th>외움표시</th>\n",
    "</tr>\n",
    "</thead>\n",
    "<tbody>\n",
    "<tr>\n",
    "<td>environment</td>\n",
    "<td>환경</td>\n",
    "<td>X</td>\n",
    "</tr>\n",
    "<tr>\n",
    "<td>company</td>\n",
    "<td>회사</td>\n",
    "<td>O</td>\n",
    "</tr>\n",
    "<tr>\n",
    "<td>government</td>\n",
    "<td>정부, 정치</td>\n",
    "<td>X</td>\n",
    "</tr>\n",
    "<tr>\n",
    "<td>face</td>\n",
    "<td>얼굴</td>\n",
    "<td>X</td>\n",
    "</tr>\n",
    "</tbody>\n",
    "</table>\n",
    "\n",
    "* 출력 예\n",
    "<pre>\n",
    "environment\n",
    "government\n",
    "face\n",
    "</pre>"
   ]
  },
  {
   "cell_type": "code",
   "execution_count": null,
   "metadata": {},
   "outputs": [],
   "source": []
  },
  {
   "cell_type": "markdown",
   "metadata": {},
   "source": [
    "##### Exercise 26. 데이터 구조 (딕셔너리)\n",
    "* 다음 dict_all, dict2, dict3 딕셔너리 변수가 있을 때, dict2와 dict3 두 데이터를 dict_all 딕셔너리 변수에 추가한 후, dict_all 변수를 출력하세요.\n",
    "```python\n",
    "dict_all = {'environment': '환경', 'gonernment':'정부, 정치'}\n",
    "dict2 = {'company': '회사', 'face':'얼굴'}\n",
    "dict3 = {'apple': '사과'}\n",
    "```"
   ]
  },
  {
   "cell_type": "code",
   "execution_count": null,
   "metadata": {},
   "outputs": [],
   "source": []
  },
  {
   "cell_type": "markdown",
   "metadata": {},
   "source": [
    "##### Exercise 27. 데이터 구조 (딕셔너리)\n",
    "* 다음 actor_info 딕셔너리 변수를 만들고, 홈페이지, 배우 이름, 최근 출연 영화 갯수를 다음과 같이 출력하세요\n",
    "\n",
    "```python\n",
    "actor_info = {'actor_details': {'생년월일': '1971-03-01',\n",
    "                   '성별': '남',\n",
    "                   '직업': '배우',\n",
    "                   '홈페이지': 'https://www.instagram.com/madongseok'},\n",
    " 'actor_name': '마동석',\n",
    " 'actor_rate': 59361,\n",
    " 'date': '2017-10',\n",
    " 'movie_list': ['범죄도시', '부라더', '부산행']}\n",
    "```\n",
    "\n",
    "* 출력 예:<br>\n",
    "배우 이름: 마동석 <br>\n",
    "홈페이지: https://www.instagram.com/madongseok <br>\n",
    "출연 영화 갯수: 3 <br>"
   ]
  },
  {
   "cell_type": "code",
   "execution_count": null,
   "metadata": {},
   "outputs": [],
   "source": []
  },
  {
   "cell_type": "markdown",
   "metadata": {},
   "source": [
    "##### Exercise 28. 데이터 구조 (딕셔너리)\n",
    "* 다음 영어 사전 데이터를 딕셔너리 변수로 만들고 사용자로부터 영어단어를 입력받으면 해당 영어단어의 외움표시를 O로 수정하고, 외움표시가 X 인 단어만 출력하는 프로그램을 작성하세요.\n",
    "  - 단, key는 영어단어, value는 의미와 외움표시 두 데이터를 넣습니다.\n",
    "\n",
    "<pre>\n",
    "environment : 환경\n",
    "company : 회사\n",
    "gonernment : 정부, 정치\n",
    "face : 얼굴\n",
    "</pre>\n",
    "\n",
    "<table>\n",
    "<thead>\n",
    "<tr>\n",
    "<th>영어단어</th>\n",
    "<th>의미</th>\n",
    "<th>외움표시</th>\n",
    "</tr>\n",
    "</thead>\n",
    "<tbody>\n",
    "<tr>\n",
    "<td>environment</td>\n",
    "<td>환경</td>\n",
    "<td>X</td>\n",
    "</tr>\n",
    "<tr>\n",
    "<td>company</td>\n",
    "<td>회사</td>\n",
    "<td>O</td>\n",
    "</tr>\n",
    "<tr>\n",
    "<td>government</td>\n",
    "<td>정부, 정치</td>\n",
    "<td>X</td>\n",
    "</tr>\n",
    "<tr>\n",
    "<td>face</td>\n",
    "<td>얼굴</td>\n",
    "<td>X</td>\n",
    "</tr>\n",
    "</tbody>\n",
    "</table>\n",
    "\n",
    "* 입력: government\n",
    "* 출력\n",
    "<pre>\n",
    "environment\n",
    "face\n",
    "</pre>"
   ]
  },
  {
   "cell_type": "code",
   "execution_count": null,
   "metadata": {},
   "outputs": [],
   "source": []
  }
 ],
 "metadata": {
  "kernelspec": {
   "display_name": "Python 3 (ipykernel)",
   "language": "python",
   "name": "python3"
  },
  "language_info": {
   "codemirror_mode": {
    "name": "ipython",
    "version": 3
   },
   "file_extension": ".py",
   "mimetype": "text/x-python",
   "name": "python",
   "nbconvert_exporter": "python",
   "pygments_lexer": "ipython3",
   "version": "3.12.7"
  },
  "nbTranslate": {
   "displayLangs": [
    "*"
   ],
   "hotkey": "alt-t",
   "langInMainMenu": true,
   "sourceLang": "en",
   "targetLang": "fr",
   "useGoogleTranslate": true
  }
 },
 "nbformat": 4,
 "nbformat_minor": 4
}
